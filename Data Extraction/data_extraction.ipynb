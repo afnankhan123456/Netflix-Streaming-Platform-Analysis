{
 "cells": [
  {
   "cell_type": "code",
   "execution_count": 1,
   "id": "3ee79ede-9e8f-413c-88d5-2567cb21c3df",
   "metadata": {},
   "outputs": [],
   "source": [
    "import pandas as pd\n",
    "import numpy as np"
   ]
  },
  {
   "cell_type": "code",
   "execution_count": 4,
   "id": "c2b14c13-81c9-4b46-8a25-e1b3f7da75ca",
   "metadata": {},
   "outputs": [],
   "source": [
    "# !pip install mysql-connector-python"
   ]
  },
  {
   "cell_type": "code",
   "execution_count": 3,
   "id": "af0e8740-1da5-409b-a608-cb756022dc61",
   "metadata": {},
   "outputs": [],
   "source": [
    "import mysql.connector\n",
    "import pandas as pd\n",
    "\n",
    "# Connect to MySQL\n",
    "connection = mysql.connector.connect(\n",
    "    host=\"localhost\",\n",
    "    user=\"root\",\n",
    "    password=\"Asd@123\",\n",
    "    database=\"netflix\"\n",
    ")\n",
    "\n",
    "cursor = connection.cursor()\n",
    "\n",
    "# Run query\n",
    "cursor.execute(\"SELECT * FROM netflix_dataset_50\")\n",
    "\n",
    "# Fetch all rows\n",
    "rows = cursor.fetchall()\n",
    "\n",
    "# Get column names from cursor\n",
    "columns = [desc[0] for desc in cursor.description]\n",
    "\n",
    "# Convert to pandas DataFrame\n",
    "df = pd.DataFrame(rows, columns=columns)\n",
    "\n",
    "\n",
    "cursor.close()\n",
    "connection.close()"
   ]
  },
  {
   "cell_type": "code",
   "execution_count": 6,
   "id": "d11416b6-8bcb-4266-972e-55411fd68803",
   "metadata": {},
   "outputs": [
    {
     "data": {
      "text/html": [
       "<div>\n",
       "<style scoped>\n",
       "    .dataframe tbody tr th:only-of-type {\n",
       "        vertical-align: middle;\n",
       "    }\n",
       "\n",
       "    .dataframe tbody tr th {\n",
       "        vertical-align: top;\n",
       "    }\n",
       "\n",
       "    .dataframe thead th {\n",
       "        text-align: right;\n",
       "    }\n",
       "</style>\n",
       "<table border=\"1\" class=\"dataframe\">\n",
       "  <thead>\n",
       "    <tr style=\"text-align: right;\">\n",
       "      <th></th>\n",
       "      <th>title</th>\n",
       "      <th>genre</th>\n",
       "      <th>release_year</th>\n",
       "      <th>rating</th>\n",
       "      <th>content_type</th>\n",
       "      <th>views</th>\n",
       "      <th>watch_time</th>\n",
       "      <th>country</th>\n",
       "      <th>region</th>\n",
       "      <th>genre_encoded</th>\n",
       "    </tr>\n",
       "  </thead>\n",
       "  <tbody>\n",
       "    <tr>\n",
       "      <th>0</th>\n",
       "      <td>Title_1</td>\n",
       "      <td>Horror</td>\n",
       "      <td>2016</td>\n",
       "      <td>8.1</td>\n",
       "      <td>Movie</td>\n",
       "      <td>318824</td>\n",
       "      <td>157</td>\n",
       "      <td>India</td>\n",
       "      <td>Europe</td>\n",
       "      <td>3</td>\n",
       "    </tr>\n",
       "    <tr>\n",
       "      <th>1</th>\n",
       "      <td>Title_2</td>\n",
       "      <td>Romance</td>\n",
       "      <td>2024</td>\n",
       "      <td>6.5</td>\n",
       "      <td>Series</td>\n",
       "      <td>258426</td>\n",
       "      <td>68</td>\n",
       "      <td>USA</td>\n",
       "      <td>Europe</td>\n",
       "      <td>4</td>\n",
       "    </tr>\n",
       "  </tbody>\n",
       "</table>\n",
       "</div>"
      ],
      "text/plain": [
       "     title    genre  release_year  rating content_type   views  watch_time  \\\n",
       "0  Title_1   Horror          2016     8.1        Movie  318824         157   \n",
       "1  Title_2  Romance          2024     6.5       Series  258426          68   \n",
       "\n",
       "  country  region  genre_encoded  \n",
       "0   India  Europe              3  \n",
       "1     USA  Europe              4  "
      ]
     },
     "execution_count": 6,
     "metadata": {},
     "output_type": "execute_result"
    }
   ],
   "source": [
    "df.head(2)"
   ]
  },
  {
   "cell_type": "code",
   "execution_count": 4,
   "id": "80981462-50cf-447a-9dca-12a2377f833b",
   "metadata": {},
   "outputs": [
    {
     "data": {
      "text/plain": [
       "title            0\n",
       "genre            0\n",
       "release_year     0\n",
       "rating           0\n",
       "content_type     0\n",
       "views            0\n",
       "watch_time       0\n",
       "country          0\n",
       "region           0\n",
       "genre_encoded    0\n",
       "dtype: int64"
      ]
     },
     "execution_count": 4,
     "metadata": {},
     "output_type": "execute_result"
    }
   ],
   "source": [
    "df.isnull().sum()"
   ]
  },
  {
   "cell_type": "code",
   "execution_count": 9,
   "id": "04d49371-3d14-47af-a274-63c2ae14bfb7",
   "metadata": {},
   "outputs": [
    {
     "data": {
      "text/plain": [
       "np.int64(0)"
      ]
     },
     "execution_count": 9,
     "metadata": {},
     "output_type": "execute_result"
    }
   ],
   "source": [
    "df.duplicated().sum()"
   ]
  },
  {
   "cell_type": "code",
   "execution_count": 10,
   "id": "9ac5e861-4d78-41f3-9a4a-8cc437b2f798",
   "metadata": {},
   "outputs": [
    {
     "data": {
      "text/plain": [
       "(50, 10)"
      ]
     },
     "execution_count": 10,
     "metadata": {},
     "output_type": "execute_result"
    }
   ],
   "source": [
    "df.shape"
   ]
  },
  {
   "cell_type": "code",
   "execution_count": null,
   "id": "ee16edec-1efe-4c3b-ae26-448754416231",
   "metadata": {},
   "outputs": [],
   "source": []
  }
 ],
 "metadata": {
  "kernelspec": {
   "display_name": "Python [conda env:base] *",
   "language": "python",
   "name": "conda-base-py"
  },
  "language_info": {
   "codemirror_mode": {
    "name": "ipython",
    "version": 3
   },
   "file_extension": ".py",
   "mimetype": "text/x-python",
   "name": "python",
   "nbconvert_exporter": "python",
   "pygments_lexer": "ipython3",
   "version": "3.13.5"
  }
 },
 "nbformat": 4,
 "nbformat_minor": 5
}
