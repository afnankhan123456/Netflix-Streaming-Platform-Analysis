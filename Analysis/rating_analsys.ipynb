{
 "cells": [
  {
   "cell_type": "code",
   "execution_count": 1,
   "id": "cc3a26c7-6417-44b5-ac33-bc24650fb104",
   "metadata": {},
   "outputs": [],
   "source": [
    "import pandas as pd\n",
    "import numpy as np"
   ]
  },
  {
   "cell_type": "code",
   "execution_count": 2,
   "id": "6d9aa7c6-237c-4fb2-b9fe-f321168cb1a3",
   "metadata": {},
   "outputs": [],
   "source": [
    "df = pd.read_csv(\"netflix_dataset_50.csv\")"
   ]
  },
  {
   "cell_type": "code",
   "execution_count": 3,
   "id": "dbf8d32f-117b-457d-8658-57ef041e2ea3",
   "metadata": {},
   "outputs": [
    {
     "data": {
      "text/html": [
       "<div>\n",
       "<style scoped>\n",
       "    .dataframe tbody tr th:only-of-type {\n",
       "        vertical-align: middle;\n",
       "    }\n",
       "\n",
       "    .dataframe tbody tr th {\n",
       "        vertical-align: top;\n",
       "    }\n",
       "\n",
       "    .dataframe thead th {\n",
       "        text-align: right;\n",
       "    }\n",
       "</style>\n",
       "<table border=\"1\" class=\"dataframe\">\n",
       "  <thead>\n",
       "    <tr style=\"text-align: right;\">\n",
       "      <th></th>\n",
       "      <th>title</th>\n",
       "      <th>genre</th>\n",
       "      <th>release_year</th>\n",
       "      <th>rating</th>\n",
       "      <th>content_type</th>\n",
       "      <th>views</th>\n",
       "      <th>watch_time</th>\n",
       "      <th>country</th>\n",
       "      <th>region</th>\n",
       "      <th>genre_encoded</th>\n",
       "    </tr>\n",
       "  </thead>\n",
       "  <tbody>\n",
       "    <tr>\n",
       "      <th>0</th>\n",
       "      <td>Title_1</td>\n",
       "      <td>Horror</td>\n",
       "      <td>2016</td>\n",
       "      <td>8.1</td>\n",
       "      <td>Movie</td>\n",
       "      <td>318824</td>\n",
       "      <td>157</td>\n",
       "      <td>India</td>\n",
       "      <td>Europe</td>\n",
       "      <td>3</td>\n",
       "    </tr>\n",
       "    <tr>\n",
       "      <th>1</th>\n",
       "      <td>Title_2</td>\n",
       "      <td>Romance</td>\n",
       "      <td>2024</td>\n",
       "      <td>6.5</td>\n",
       "      <td>Series</td>\n",
       "      <td>258426</td>\n",
       "      <td>68</td>\n",
       "      <td>USA</td>\n",
       "      <td>Europe</td>\n",
       "      <td>4</td>\n",
       "    </tr>\n",
       "  </tbody>\n",
       "</table>\n",
       "</div>"
      ],
      "text/plain": [
       "     title    genre  release_year  rating content_type   views  watch_time  \\\n",
       "0  Title_1   Horror          2016     8.1        Movie  318824         157   \n",
       "1  Title_2  Romance          2024     6.5       Series  258426          68   \n",
       "\n",
       "  country  region  genre_encoded  \n",
       "0   India  Europe              3  \n",
       "1     USA  Europe              4  "
      ]
     },
     "execution_count": 3,
     "metadata": {},
     "output_type": "execute_result"
    }
   ],
   "source": [
    "df.head(2)"
   ]
  },
  {
   "cell_type": "markdown",
   "id": "29df0515-f4c8-490e-a7d4-b2c2bc74f858",
   "metadata": {},
   "source": [
    "# Top-rated titles (highest rating)."
   ]
  },
  {
   "cell_type": "code",
   "execution_count": 4,
   "id": "0562094d-a8c1-44cd-83c8-27af89cadec7",
   "metadata": {},
   "outputs": [
    {
     "data": {
      "text/plain": [
       "title\n",
       "Title_16    9.7\n",
       "Title_34    9.5\n",
       "Title_3     9.3\n",
       "Name: rating, dtype: float64"
      ]
     },
     "execution_count": 4,
     "metadata": {},
     "output_type": "execute_result"
    }
   ],
   "source": [
    "top_rating = df.groupby(\"title\")[\"rating\"].max().sort_values(ascending=False).head(3)\n",
    "top_rating"
   ]
  },
  {
   "cell_type": "markdown",
   "id": "6f7d62ae-6c1a-408a-b6b8-19f494342c3e",
   "metadata": {},
   "source": [
    "# Movie vs Series ka average rating compare karna."
   ]
  },
  {
   "cell_type": "code",
   "execution_count": 5,
   "id": "572b0700-eca8-4ec9-aa96-ac6748e43cb6",
   "metadata": {},
   "outputs": [
    {
     "data": {
      "text/plain": [
       "array(['Movie', 'Series'], dtype=object)"
      ]
     },
     "execution_count": 5,
     "metadata": {},
     "output_type": "execute_result"
    }
   ],
   "source": [
    "df[\"content_type\"].unique()"
   ]
  },
  {
   "cell_type": "code",
   "execution_count": 14,
   "id": "b66078be-9b09-4845-a10c-878d0aaf6d75",
   "metadata": {},
   "outputs": [
    {
     "name": "stdout",
     "output_type": "stream",
     "text": [
      "Movie average rating: 6.246153846153846\n",
      "Series average rating: 5.141666666666667\n",
      "Movies have higher average rating\n"
     ]
    }
   ],
   "source": [
    "avg_rating = df.groupby(\"content_type\")[\"rating\"].mean()\n",
    "\n",
    "movie_avg = avg_rating.get(\"Movie\", 0)\n",
    "series_avg = avg_rating.get(\"Series\", 0)\n",
    "movie_avg\n",
    "series_avg\n",
    "print(\"Movie average rating:\", movie_avg)\n",
    "print(\"Series average rating:\", series_avg)\n",
    "\n",
    "# Compare\n",
    "if movie_avg > series_avg:\n",
    "    print(\"Movies have higher average rating\")\n",
    "elif movie_avg < series_avg:\n",
    "    print(\"Series have higher average rating\")\n",
    "else:\n",
    "    print(\"Movies and Series have same average rating\")\n"
   ]
  },
  {
   "cell_type": "markdown",
   "id": "b77cf664-4ee8-4e4b-9169-88ae9ee1d2f1",
   "metadata": {},
   "source": [
    "# Viewer satisfaction (high vs low rating) analyze karna."
   ]
  },
  {
   "cell_type": "code",
   "execution_count": 16,
   "id": "181c9271-95a9-4fec-868f-18b6709b273e",
   "metadata": {},
   "outputs": [
    {
     "name": "stdout",
     "output_type": "stream",
     "text": [
      "Suggested threshold for high vs low rating: 6.1\n"
     ]
    }
   ],
   "source": [
    "threshold = df[\"rating\"].median()\n",
    "print(\"Suggested threshold for high vs low rating:\", threshold)\n"
   ]
  },
  {
   "cell_type": "code",
   "execution_count": 19,
   "id": "9b77f902-5d84-433f-93eb-5d16f7441ff6",
   "metadata": {},
   "outputs": [
    {
     "name": "stdout",
     "output_type": "stream",
     "text": [
      "Average views for low-rated content: 472962.375\n",
      "Average views for high-rated content: 507350.8846153846\n"
     ]
    }
   ],
   "source": [
    "# Set threshold\n",
    "threshold = 6.1\n",
    "\n",
    "low_rating = df[df['rating'] < threshold]\n",
    "high_rating = df[df['rating'] >= threshold] \n",
    "\n",
    "avg_low_views = low_rating['views'].mean()\n",
    "avg_high_views = high_rating['views'].mean()\n",
    "\n",
    "print(\"Average views for low-rated content:\", avg_low_views)\n",
    "print(\"Average views for high-rated content:\", avg_high_views)"
   ]
  }
 ],
 "metadata": {
  "kernelspec": {
   "display_name": "Python [conda env:base] *",
   "language": "python",
   "name": "conda-base-py"
  },
  "language_info": {
   "codemirror_mode": {
    "name": "ipython",
    "version": 3
   },
   "file_extension": ".py",
   "mimetype": "text/x-python",
   "name": "python",
   "nbconvert_exporter": "python",
   "pygments_lexer": "ipython3",
   "version": "3.13.5"
  }
 },
 "nbformat": 4,
 "nbformat_minor": 5
}
